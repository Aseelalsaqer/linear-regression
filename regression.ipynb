{
 "cells": [
  {
   "cell_type": "code",
   "execution_count": 157,
   "metadata": {},
   "outputs": [],
   "source": [
    "import pandas as pd\n",
    "%matplotlib inline\n",
    "import matplotlib.pyplot as plt\n",
    "from sklearn.linear_model import LinearRegression\n",
    "from sklearn.model_selection import train_test_split"
   ]
  },
  {
   "cell_type": "code",
   "execution_count": 158,
   "metadata": {},
   "outputs": [
    {
     "data": {
      "text/html": [
       "<div>\n",
       "<style scoped>\n",
       "    .dataframe tbody tr th:only-of-type {\n",
       "        vertical-align: middle;\n",
       "    }\n",
       "\n",
       "    .dataframe tbody tr th {\n",
       "        vertical-align: top;\n",
       "    }\n",
       "\n",
       "    .dataframe thead th {\n",
       "        text-align: right;\n",
       "    }\n",
       "</style>\n",
       "<table border=\"1\" class=\"dataframe\">\n",
       "  <thead>\n",
       "    <tr style=\"text-align: right;\">\n",
       "      <th></th>\n",
       "      <th>x</th>\n",
       "      <th>y</th>\n",
       "    </tr>\n",
       "  </thead>\n",
       "  <tbody>\n",
       "    <tr>\n",
       "      <th>0</th>\n",
       "      <td>24.0</td>\n",
       "      <td>21.549452</td>\n",
       "    </tr>\n",
       "    <tr>\n",
       "      <th>1</th>\n",
       "      <td>50.0</td>\n",
       "      <td>47.464463</td>\n",
       "    </tr>\n",
       "    <tr>\n",
       "      <th>2</th>\n",
       "      <td>15.0</td>\n",
       "      <td>17.218656</td>\n",
       "    </tr>\n",
       "    <tr>\n",
       "      <th>3</th>\n",
       "      <td>38.0</td>\n",
       "      <td>36.586398</td>\n",
       "    </tr>\n",
       "    <tr>\n",
       "      <th>4</th>\n",
       "      <td>87.0</td>\n",
       "      <td>87.288984</td>\n",
       "    </tr>\n",
       "    <tr>\n",
       "      <th>...</th>\n",
       "      <td>...</td>\n",
       "      <td>...</td>\n",
       "    </tr>\n",
       "    <tr>\n",
       "      <th>695</th>\n",
       "      <td>58.0</td>\n",
       "      <td>58.595006</td>\n",
       "    </tr>\n",
       "    <tr>\n",
       "      <th>696</th>\n",
       "      <td>93.0</td>\n",
       "      <td>94.625094</td>\n",
       "    </tr>\n",
       "    <tr>\n",
       "      <th>697</th>\n",
       "      <td>82.0</td>\n",
       "      <td>88.603770</td>\n",
       "    </tr>\n",
       "    <tr>\n",
       "      <th>698</th>\n",
       "      <td>66.0</td>\n",
       "      <td>63.648685</td>\n",
       "    </tr>\n",
       "    <tr>\n",
       "      <th>699</th>\n",
       "      <td>97.0</td>\n",
       "      <td>94.975266</td>\n",
       "    </tr>\n",
       "  </tbody>\n",
       "</table>\n",
       "<p>700 rows × 2 columns</p>\n",
       "</div>"
      ],
      "text/plain": [
       "        x          y\n",
       "0    24.0  21.549452\n",
       "1    50.0  47.464463\n",
       "2    15.0  17.218656\n",
       "3    38.0  36.586398\n",
       "4    87.0  87.288984\n",
       "..    ...        ...\n",
       "695  58.0  58.595006\n",
       "696  93.0  94.625094\n",
       "697  82.0  88.603770\n",
       "698  66.0  63.648685\n",
       "699  97.0  94.975266\n",
       "\n",
       "[700 rows x 2 columns]"
      ]
     },
     "execution_count": 158,
     "metadata": {},
     "output_type": "execute_result"
    }
   ],
   "source": [
    "data = pd.read_csv(\"train.csv\")\n",
    "data\n"
   ]
  },
  {
   "cell_type": "code",
   "execution_count": 159,
   "metadata": {},
   "outputs": [
    {
     "data": {
      "text/html": [
       "<div>\n",
       "<style scoped>\n",
       "    .dataframe tbody tr th:only-of-type {\n",
       "        vertical-align: middle;\n",
       "    }\n",
       "\n",
       "    .dataframe tbody tr th {\n",
       "        vertical-align: top;\n",
       "    }\n",
       "\n",
       "    .dataframe thead th {\n",
       "        text-align: right;\n",
       "    }\n",
       "</style>\n",
       "<table border=\"1\" class=\"dataframe\">\n",
       "  <thead>\n",
       "    <tr style=\"text-align: right;\">\n",
       "      <th></th>\n",
       "      <th>x</th>\n",
       "      <th>y</th>\n",
       "    </tr>\n",
       "  </thead>\n",
       "  <tbody>\n",
       "    <tr>\n",
       "      <th>0</th>\n",
       "      <td>24.0</td>\n",
       "      <td>21.549452</td>\n",
       "    </tr>\n",
       "    <tr>\n",
       "      <th>1</th>\n",
       "      <td>50.0</td>\n",
       "      <td>47.464463</td>\n",
       "    </tr>\n",
       "    <tr>\n",
       "      <th>2</th>\n",
       "      <td>15.0</td>\n",
       "      <td>17.218656</td>\n",
       "    </tr>\n",
       "    <tr>\n",
       "      <th>3</th>\n",
       "      <td>38.0</td>\n",
       "      <td>36.586398</td>\n",
       "    </tr>\n",
       "    <tr>\n",
       "      <th>4</th>\n",
       "      <td>87.0</td>\n",
       "      <td>87.288984</td>\n",
       "    </tr>\n",
       "  </tbody>\n",
       "</table>\n",
       "</div>"
      ],
      "text/plain": [
       "      x          y\n",
       "0  24.0  21.549452\n",
       "1  50.0  47.464463\n",
       "2  15.0  17.218656\n",
       "3  38.0  36.586398\n",
       "4  87.0  87.288984"
      ]
     },
     "execution_count": 159,
     "metadata": {},
     "output_type": "execute_result"
    }
   ],
   "source": [
    "first_five = data.head()\n",
    "first_five"
   ]
  },
  {
   "cell_type": "code",
   "execution_count": 160,
   "metadata": {},
   "outputs": [
    {
     "name": "stdout",
     "output_type": "stream",
     "text": [
      "<class 'pandas.core.frame.DataFrame'>\n",
      "RangeIndex: 700 entries, 0 to 699\n",
      "Data columns (total 2 columns):\n",
      " #   Column  Non-Null Count  Dtype  \n",
      "---  ------  --------------  -----  \n",
      " 0   x       700 non-null    float64\n",
      " 1   y       699 non-null    float64\n",
      "dtypes: float64(2)\n",
      "memory usage: 11.1 KB\n"
     ]
    },
    {
     "data": {
      "text/html": [
       "<div>\n",
       "<style scoped>\n",
       "    .dataframe tbody tr th:only-of-type {\n",
       "        vertical-align: middle;\n",
       "    }\n",
       "\n",
       "    .dataframe tbody tr th {\n",
       "        vertical-align: top;\n",
       "    }\n",
       "\n",
       "    .dataframe thead th {\n",
       "        text-align: right;\n",
       "    }\n",
       "</style>\n",
       "<table border=\"1\" class=\"dataframe\">\n",
       "  <thead>\n",
       "    <tr style=\"text-align: right;\">\n",
       "      <th></th>\n",
       "      <th>x</th>\n",
       "      <th>y</th>\n",
       "    </tr>\n",
       "  </thead>\n",
       "  <tbody>\n",
       "    <tr>\n",
       "      <th>count</th>\n",
       "      <td>700.000000</td>\n",
       "      <td>699.000000</td>\n",
       "    </tr>\n",
       "    <tr>\n",
       "      <th>mean</th>\n",
       "      <td>54.985939</td>\n",
       "      <td>49.939869</td>\n",
       "    </tr>\n",
       "    <tr>\n",
       "      <th>std</th>\n",
       "      <td>134.681703</td>\n",
       "      <td>29.109217</td>\n",
       "    </tr>\n",
       "    <tr>\n",
       "      <th>min</th>\n",
       "      <td>0.000000</td>\n",
       "      <td>-3.839981</td>\n",
       "    </tr>\n",
       "    <tr>\n",
       "      <th>25%</th>\n",
       "      <td>25.000000</td>\n",
       "      <td>24.929968</td>\n",
       "    </tr>\n",
       "    <tr>\n",
       "      <th>50%</th>\n",
       "      <td>49.000000</td>\n",
       "      <td>48.973020</td>\n",
       "    </tr>\n",
       "    <tr>\n",
       "      <th>75%</th>\n",
       "      <td>75.000000</td>\n",
       "      <td>74.929911</td>\n",
       "    </tr>\n",
       "    <tr>\n",
       "      <th>max</th>\n",
       "      <td>3530.157369</td>\n",
       "      <td>108.871618</td>\n",
       "    </tr>\n",
       "  </tbody>\n",
       "</table>\n",
       "</div>"
      ],
      "text/plain": [
       "                 x           y\n",
       "count   700.000000  699.000000\n",
       "mean     54.985939   49.939869\n",
       "std     134.681703   29.109217\n",
       "min       0.000000   -3.839981\n",
       "25%      25.000000   24.929968\n",
       "50%      49.000000   48.973020\n",
       "75%      75.000000   74.929911\n",
       "max    3530.157369  108.871618"
      ]
     },
     "execution_count": 160,
     "metadata": {},
     "output_type": "execute_result"
    }
   ],
   "source": [
    "data.info()\n",
    "data.describe()"
   ]
  },
  {
   "cell_type": "code",
   "execution_count": 161,
   "metadata": {},
   "outputs": [
    {
     "name": "stdout",
     "output_type": "stream",
     "text": [
      "x_train shape [(240, 1)\n",
      "y_train shape [(240, 1)\n",
      "x_test shape [(60, 1)\n",
      "y_test shape [(60, 1)\n"
     ]
    },
    {
     "data": {
      "text/plain": [
       "array([[ 48],\n",
       "       [ 53],\n",
       "       [ 55],\n",
       "       [ 26],\n",
       "       [ 38],\n",
       "       [ 28],\n",
       "       [ 89],\n",
       "       [ 59],\n",
       "       [ 21],\n",
       "       [ 43],\n",
       "       [  7],\n",
       "       [ 95],\n",
       "       [ 40],\n",
       "       [ 72],\n",
       "       [ 54],\n",
       "       [ 87],\n",
       "       [ 64],\n",
       "       [ 12],\n",
       "       [ 13],\n",
       "       [ 55],\n",
       "       [ 78],\n",
       "       [ 37],\n",
       "       [  2],\n",
       "       [ 81],\n",
       "       [ 23],\n",
       "       [ 95],\n",
       "       [ 57],\n",
       "       [ 19],\n",
       "       [ 94],\n",
       "       [ 35],\n",
       "       [  5],\n",
       "       [ 21],\n",
       "       [ 15],\n",
       "       [100],\n",
       "       [ 37],\n",
       "       [ 73],\n",
       "       [100],\n",
       "       [ 41],\n",
       "       [ 70],\n",
       "       [ 72],\n",
       "       [ 28],\n",
       "       [ 73],\n",
       "       [ 39],\n",
       "       [ 41],\n",
       "       [ 16],\n",
       "       [ 16],\n",
       "       [ 99],\n",
       "       [  4],\n",
       "       [ 47],\n",
       "       [ 90],\n",
       "       [ 82],\n",
       "       [ 58],\n",
       "       [ 21],\n",
       "       [ 27],\n",
       "       [ 91],\n",
       "       [ 74],\n",
       "       [ 32],\n",
       "       [ 69],\n",
       "       [ 44],\n",
       "       [ 71]])"
      ]
     },
     "execution_count": 161,
     "metadata": {},
     "output_type": "execute_result"
    }
   ],
   "source": [
    "X = X.reshape(-1,1)\n",
    "Y = Y.reshape(-1,1)\n",
    "\n",
    "x_train, x_test, y_train, y_test = train_test_split(X, Y, train_size=0.8, test_size=0.2, random_state=100)\n",
    "\n",
    "print(f\"x_train shape [{x_train.shape}\")\n",
    "print(f\"y_train shape [{x_train.shape}\")\n",
    "print(f\"x_test shape [{x_test.shape}\")\n",
    "print(f\"y_test shape [{x_test.shape}\")\n",
    "x_test"
   ]
  },
  {
   "cell_type": "code",
   "execution_count": 162,
   "metadata": {},
   "outputs": [
    {
     "data": {
      "text/plain": [
       "LinearRegression()"
      ]
     },
     "execution_count": 162,
     "metadata": {},
     "output_type": "execute_result"
    }
   ],
   "source": [
    "lm = LinearRegression()\n",
    "lm.fit(x_train,y_train)"
   ]
  },
  {
   "cell_type": "code",
   "execution_count": 163,
   "metadata": {},
   "outputs": [
    {
     "data": {
      "image/png": "[encoded data removed]",
      "text/plain": [
       "<Figure size 1152x576 with 1 Axes>"
      ]
     },
     "metadata": {
      "needs_background": "light"
     },
     "output_type": "display_data"
    }
   ],
   "source": [
    "plt.figure(figsize=(16, 8))\n",
    "plt.scatter(data['x'],data['y'],c='black'\n",
    ")\n",
    "plt.xlabel(\"x VALUES\")\n",
    "plt.ylabel(\"y VALUES\")\n",
    "plt.title(\"Aseel_Plot\")\n",
    "plt.show()\n"
   ]
  },
  {
   "cell_type": "code",
   "execution_count": 164,
   "metadata": {},
   "outputs": [
    {
     "data": {
      "text/plain": [
       "array([[ 48.14850516],\n",
       "       [ 53.21742332],\n",
       "       [ 55.24499059],\n",
       "       [ 25.84526525],\n",
       "       [ 38.01066884],\n",
       "       [ 27.87283251],\n",
       "       [ 89.71363409],\n",
       "       [ 59.30012512],\n",
       "       [ 20.77634709],\n",
       "       [ 43.079587  ],\n",
       "       [  6.58337624],\n",
       "       [ 95.79633588],\n",
       "       [ 40.0382361 ],\n",
       "       [ 72.47931234],\n",
       "       [ 54.23120695],\n",
       "       [ 87.68606682],\n",
       "       [ 64.36904328],\n",
       "       [ 11.6522944 ],\n",
       "       [ 12.66607803],\n",
       "       [ 55.24499059],\n",
       "       [ 78.56201413],\n",
       "       [ 36.99688521],\n",
       "       [  1.51445807],\n",
       "       [ 81.60336503],\n",
       "       [ 22.80391435],\n",
       "       [ 95.79633588],\n",
       "       [ 57.27255785],\n",
       "       [ 18.74877982],\n",
       "       [ 94.78255225],\n",
       "       [ 34.96931794],\n",
       "       [  4.55580897],\n",
       "       [ 20.77634709],\n",
       "       [ 14.69364529],\n",
       "       [100.86525404],\n",
       "       [ 36.99688521],\n",
       "       [ 73.49309597],\n",
       "       [100.86525404],\n",
       "       [ 41.05201973],\n",
       "       [ 70.45174507],\n",
       "       [ 72.47931234],\n",
       "       [ 27.87283251],\n",
       "       [ 73.49309597],\n",
       "       [ 39.02445247],\n",
       "       [ 41.05201973],\n",
       "       [ 15.70742893],\n",
       "       [ 15.70742893],\n",
       "       [ 99.85147041],\n",
       "       [  3.54202534],\n",
       "       [ 47.13472153],\n",
       "       [ 90.72741772],\n",
       "       [ 82.61714866],\n",
       "       [ 58.28634148],\n",
       "       [ 20.77634709],\n",
       "       [ 26.85904888],\n",
       "       [ 91.74120135],\n",
       "       [ 74.5068796 ],\n",
       "       [ 31.92796704],\n",
       "       [ 69.43796144],\n",
       "       [ 44.09337063],\n",
       "       [ 71.4655287 ]])"
      ]
     },
     "execution_count": 164,
     "metadata": {},
     "output_type": "execute_result"
    }
   ],
   "source": [
    "y_predict = lm.predict(x_test)\n",
    "\n",
    "y_predict"
   ]
  },
  {
   "cell_type": "code",
   "execution_count": 165,
   "metadata": {},
   "outputs": [
    {
     "data": {
      "text/plain": [
       "array([[ 47.41006725],\n",
       "       [ 60.20758349],\n",
       "       [ 51.10774273],\n",
       "       [ 25.75612514],\n",
       "       [ 36.94173178],\n",
       "       [ 29.31770045],\n",
       "       [ 91.59548851],\n",
       "       [ 56.82457013],\n",
       "       [ 19.1315097 ],\n",
       "       [ 42.84526108],\n",
       "       [ 10.41468095],\n",
       "       [ 97.61793701],\n",
       "       [ 48.09843134],\n",
       "       [ 69.39858505],\n",
       "       [ 52.45103628],\n",
       "       [ 90.65513736],\n",
       "       [ 67.68142149],\n",
       "       [  9.24113898],\n",
       "       [ 14.05572877],\n",
       "       [ 54.09063686],\n",
       "       [ 78.39683006],\n",
       "       [ 40.03504862],\n",
       "       [ -2.81991397],\n",
       "       [ 78.79008525],\n",
       "       [ 24.68362712],\n",
       "       [ 97.13832018],\n",
       "       [ 53.11628433],\n",
       "       [ 19.38780134],\n",
       "       [ 96.58888601],\n",
       "       [ 24.3884599 ],\n",
       "       [  5.6340309 ],\n",
       "       [ 18.98322306],\n",
       "       [ 14.82248589],\n",
       "       [103.5266162 ],\n",
       "       [ 40.00709598],\n",
       "       [ 75.7584178 ],\n",
       "       [ 99.78687252],\n",
       "       [ 39.3294153 ],\n",
       "       [ 67.2352155 ],\n",
       "       [ 74.68953276],\n",
       "       [ 31.32274932],\n",
       "       [ 72.86282528],\n",
       "       [ 47.49374765],\n",
       "       [ 45.44599591],\n",
       "       [ 16.68715211],\n",
       "       [ 16.74923937],\n",
       "       [ 99.87382707],\n",
       "       [  2.81141583],\n",
       "       [ 46.69013968],\n",
       "       [ 89.899991  ],\n",
       "       [ 85.45504157],\n",
       "       [ 53.52042319],\n",
       "       [ 23.17727887],\n",
       "       [ 21.71380347],\n",
       "       [ 89.73951993],\n",
       "       [ 75.69298554],\n",
       "       [ 36.06292994],\n",
       "       [ 77.22982636],\n",
       "       [ 45.96396877],\n",
       "       [ 68.16724757]])"
      ]
     },
     "execution_count": 165,
     "metadata": {},
     "output_type": "execute_result"
    }
   ],
   "source": [
    "y_test"
   ]
  },
  {
   "cell_type": "code",
   "execution_count": 167,
   "metadata": {},
   "outputs": [
    {
     "name": "stdout",
     "output_type": "stream",
     "text": [
      "Train accuracy 98.98%\n",
      "Test accuracy 100.0%\n"
     ]
    },
    {
     "data": {
      "text/plain": [
       "Text(0.5, 1.0, 'Aseel_Plot')"
      ]
     },
     "execution_count": 167,
     "metadata": {},
     "output_type": "execute_result"
    },
    {
     "data": {
      "image/png": "[encoded data removed]",
      "text/plain": [
       "<Figure size 1152x576 with 1 Axes>"
      ]
     },
     "metadata": {
      "needs_background": "light"
     },
     "output_type": "display_data"
    }
   ],
   "source": [
    "print(f\"Train accuracy {round(lm.score(x_train, y_train) * 100, 2)}%\")\n",
    "print(f\"Test accuracy {round(lm.score(x_test, y_predict) * 100, 2)}%\")\n",
    "plt.figure(figsize=(16, 8))\n",
    "plt.scatter(x_train,y_train, color='red')\n",
    "plt.plot(x_test,y_predict)\n",
    "plt.xlabel(\"x VALUE\")\n",
    "plt.ylabel(\"y VALUE\")\n",
    "plt.title(\"Aseel_Plot\")"
   ]
  },
  {
   "cell_type": "code",
   "execution_count": 168,
   "metadata": {},
   "outputs": [
    {
     "data": {
      "text/plain": [
       "0.9864980078429514"
      ]
     },
     "execution_count": 168,
     "metadata": {},
     "output_type": "execute_result"
    }
   ],
   "source": [
    "from sklearn.metrics import r2_score\n",
    "r2_score(y_test, y_predict)"
   ]
  },
  {
   "cell_type": "code",
   "execution_count": 170,
   "metadata": {},
   "outputs": [
    {
     "name": "stdout",
     "output_type": "stream",
     "text": [
      " 10 the expected y is 9\n"
     ]
    }
   ],
   "source": [
    "x=10\n",
    "expectied_y = model.predict([[x]])[0]\n",
    "print(f\" {x} the expected y is {int(expectied_y)}\")"
   ]
  },
  {
   "cell_type": "code",
   "execution_count": 171,
   "metadata": {},
   "outputs": [
    {
     "name": "stdout",
     "output_type": "stream",
     "text": [
      "Train accuracy 98.98 %\n",
      "Test accuracy 98.65 %\n"
     ]
    }
   ],
   "source": [
    "model.fit(x_train,y_train)\n",
    "y_predict = model.predict(x_test)\n",
    "print(f\"Train accuracy {round(model.score(x_train,y_train)*100,2)} %\")\n",
    "print(f\"Test accuracy {round(model.score(x_test,y_test)*100,2)} %\")"
   ]
  }
 ],
 "metadata": {
  "interpreter": {
   "hash": "31af53a02e1d12d6e69592472b8d78e9d54fde798a28ab398c2f37c8332ceb63"
  },
  "kernelspec": {
   "display_name": "Python 3.9.5 64-bit ('.venv': poetry)",
   "name": "python3"
  },
  "language_info": {
   "codemirror_mode": {
    "name": "ipython",
    "version": 3
   },
   "file_extension": ".py",
   "mimetype": "text/x-python",
   "name": "python",
   "nbconvert_exporter": "python",
   "pygments_lexer": "ipython3",
   "version": "3.9.5"
  },
  "orig_nbformat": 4
 },
 "nbformat": 4,
 "nbformat_minor": 2
}
